{
 "cells": [
  {
   "cell_type": "markdown",
   "metadata": {},
   "source": [
    "___\n",
    "\n",
    "<a href='https://www.udemy.com/user/joseportilla/'><img src='../Pierian_Data_Logo.png'/></a>\n",
    "___\n",
    "<center><em>Content Copyright by Pierian Data</em></center>"
   ]
  },
  {
   "cell_type": "markdown",
   "metadata": {},
   "source": [
    "# Milestone Project 1: Walkthrough Steps Workbook\n",
    "\n",
    "Below is a set of steps for you to follow to try to create the Tic Tac Toe Milestone Project game!"
   ]
  },
  {
   "cell_type": "markdown",
   "metadata": {},
   "source": [
    "#### Some suggested tools before you get started:\n",
    "To take input from a user:\n",
    "\n",
    "    player1 = input(\"Please pick a marker 'X' or 'O'\")\n",
    "    \n",
    "Note that input() takes in a string. If you need an integer value, use\n",
    "\n",
    "    position = int(input('Please enter a number'))\n",
    "    \n",
    "<br>To clear the screen between moves:\n",
    "\n",
    "    from IPython.display import clear_output\n",
    "    clear_output()\n",
    "    \n",
    "Note that clear_output() will only work in jupyter. To clear the screen in other IDEs, consider:\n",
    "\n",
    "    print('\\n'*100)\n",
    "    \n",
    "This scrolls the previous board up out of view. Now on to the program!"
   ]
  },
  {
   "cell_type": "markdown",
   "metadata": {},
   "source": [
    "**Step 1: Write a function that can print out a board. Set up your board as a list, where each index 1-9 corresponds with a number on a number pad, so you get a 3 by 3 board representation.**"
   ]
  },
  {
   "cell_type": "code",
   "execution_count": 1,
   "metadata": {},
   "outputs": [],
   "source": [
    "from IPython.display import clear_output\n",
    "\n",
    "board = ['#',' ',' ',' ',\n",
    "         ' ',' ',' ',\n",
    "         ' ',' ',' ']\n",
    "def display_board(board):\n",
    "    \n",
    "    clear_output()\n",
    "    print(' ',board[7],'|',board[8],'|',board[9])\n",
    "    print('----|---|----')\n",
    "    print(' ',board[4],'|',board[5],'|',board[6])\n",
    "    print('----|---|----')\n",
    "    print(' ',board[1],'|',board[2],'|',board[3])"
   ]
  },
  {
   "cell_type": "code",
   "execution_count": 2,
   "metadata": {},
   "outputs": [
    {
     "name": "stdout",
     "output_type": "stream",
     "text": [
      "    |   |  \n",
      "----|---|----\n",
      "    |   |  \n",
      "----|---|----\n",
      "    |   |  \n"
     ]
    }
   ],
   "source": [
    "display_board(board)"
   ]
  },
  {
   "cell_type": "markdown",
   "metadata": {},
   "source": [
    "**TEST Step 1:** run your function on a test version of the board list, and make adjustments as necessary"
   ]
  },
  {
   "cell_type": "code",
   "execution_count": 3,
   "metadata": {},
   "outputs": [
    {
     "name": "stdout",
     "output_type": "stream",
     "text": [
      "  X |   |  \n",
      "----|---|----\n",
      "    |   |  \n",
      "----|---|----\n",
      "    |   | X\n"
     ]
    }
   ],
   "source": [
    "test_board = ['#',' ',' ','X',' ',' ',' ','X',' ',' ']\n",
    "display_board(test_board)"
   ]
  },
  {
   "cell_type": "markdown",
   "metadata": {},
   "source": [
    "**Step 2: Write a function that can take in a player input and assign their marker as 'X' or 'O'. Think about using *while* loops to continually ask until you get a correct answer.**"
   ]
  },
  {
   "cell_type": "code",
   "execution_count": 26,
   "metadata": {},
   "outputs": [],
   "source": [
    "def player_input():\n",
    "    \n",
    "    marker = 'incorrect'\n",
    "    \n",
    "    while marker not in ['X','O']:\n",
    "        \n",
    "        marker = input('Player1, which marker? X or O  ').upper()\n",
    "        \n",
    "        if marker not in ['X','O']:\n",
    "            clear_output\n",
    "            print('What chu doin? X or O')\n",
    "            \n",
    "    player1 = marker\n",
    "    \n",
    "    if player1 == 'X':\n",
    "        player2 = 'O'\n",
    "    else:\n",
    "        player2 = 'X'\n",
    "    \n",
    "    return player1,player2"
   ]
  },
  {
   "cell_type": "markdown",
   "metadata": {},
   "source": [
    "**TEST Step 2:** run the function to make sure it returns the desired output"
   ]
  },
  {
   "cell_type": "code",
   "execution_count": 5,
   "metadata": {
    "scrolled": false
   },
   "outputs": [
    {
     "name": "stdout",
     "output_type": "stream",
     "text": [
      "Which marker: X or O  x\n"
     ]
    },
    {
     "data": {
      "text/plain": [
       "('X', 'O')"
      ]
     },
     "execution_count": 5,
     "metadata": {},
     "output_type": "execute_result"
    }
   ],
   "source": [
    "#can set this equal to palyer1, player2\n",
    "player_input()"
   ]
  },
  {
   "cell_type": "markdown",
   "metadata": {},
   "source": [
    "**Step 3: Write a function that takes in the board list object, a marker ('X' or 'O'), and a desired position (number 1-9) and assigns it to the board.**"
   ]
  },
  {
   "cell_type": "code",
   "execution_count": 6,
   "metadata": {},
   "outputs": [],
   "source": [
    "def place_marker(board, marker, position):\n",
    "    \n",
    "    board[position] = marker"
   ]
  },
  {
   "cell_type": "markdown",
   "metadata": {},
   "source": [
    "**TEST Step 3:** run the place marker function using test parameters and display the modified board"
   ]
  },
  {
   "cell_type": "code",
   "execution_count": 7,
   "metadata": {},
   "outputs": [
    {
     "name": "stdout",
     "output_type": "stream",
     "text": [
      "  X |   |  \n",
      "----|---|----\n",
      "    |   |  \n",
      "----|---|----\n",
      "    |   | X\n"
     ]
    }
   ],
   "source": [
    "place_marker(test_board,' ',9)\n",
    "display_board(test_board)"
   ]
  },
  {
   "cell_type": "markdown",
   "metadata": {},
   "source": [
    "**Step 4: Write a function that takes in a board and a mark (X or O) and then checks to see if that mark has won. **"
   ]
  },
  {
   "cell_type": "code",
   "execution_count": 8,
   "metadata": {},
   "outputs": [],
   "source": [
    "def win_check(board, mark):\n",
    "    #there has to be a for loop to do this\n",
    "    \n",
    "    #manual check rows:\n",
    "    if board[7] == board[8]== board[9]== mark or board[4]== board[5]== board[6]== mark or board[1] == board[2]== board[3]== mark:\n",
    "        return True\n",
    "    #manual check columns\n",
    "    elif board[7]== board[4]== board[1]== mark or board[8]== board[5]== board[2]== mark or board[9] == board[6]== board[3]== mark:\n",
    "        return True\n",
    "    #manual check cross\n",
    "    elif board[7]== board[5]== board[3]== mark or board[9]== board[5]== board[1]== mark:\n",
    "        return True\n",
    "    else:\n",
    "        return False"
   ]
  },
  {
   "cell_type": "markdown",
   "metadata": {},
   "source": [
    "**TEST Step 4:** run the win_check function against our test_board - it should return True"
   ]
  },
  {
   "cell_type": "code",
   "execution_count": 9,
   "metadata": {
    "scrolled": true
   },
   "outputs": [
    {
     "data": {
      "text/plain": [
       "False"
      ]
     },
     "execution_count": 9,
     "metadata": {},
     "output_type": "execute_result"
    }
   ],
   "source": [
    "win_check(test_board,'X')"
   ]
  },
  {
   "cell_type": "markdown",
   "metadata": {},
   "source": [
    "**Step 5: Write a function that uses the random module to randomly decide which player goes first. You may want to lookup random.randint() Return a string of which player went first.**"
   ]
  },
  {
   "cell_type": "code",
   "execution_count": 10,
   "metadata": {},
   "outputs": [],
   "source": [
    "import random\n",
    "\n",
    "def choose_first():\n",
    "    goes_first = random.randint(1,2)\n",
    "    if goes_first == 1:\n",
    "        return \"Player X goes first.\"\n",
    "    else:\n",
    "        return 'Player O goes first.'"
   ]
  },
  {
   "cell_type": "code",
   "execution_count": 11,
   "metadata": {
    "scrolled": false
   },
   "outputs": [
    {
     "data": {
      "text/plain": [
       "'Player O goes first.'"
      ]
     },
     "execution_count": 11,
     "metadata": {},
     "output_type": "execute_result"
    }
   ],
   "source": [
    "choose_first()"
   ]
  },
  {
   "cell_type": "markdown",
   "metadata": {},
   "source": [
    "**Step 6: Write a function that returns a boolean indicating whether a space on the board is freely available.**"
   ]
  },
  {
   "cell_type": "code",
   "execution_count": 12,
   "metadata": {},
   "outputs": [],
   "source": [
    "def space_check(board, position):\n",
    "    '''\n",
    "    when True, space is available\n",
    "    ''' \n",
    "    return board[position] == \" \""
   ]
  },
  {
   "cell_type": "code",
   "execution_count": 13,
   "metadata": {},
   "outputs": [
    {
     "data": {
      "text/plain": [
       "True"
      ]
     },
     "execution_count": 13,
     "metadata": {},
     "output_type": "execute_result"
    }
   ],
   "source": [
    "space_check(test_board, 8)"
   ]
  },
  {
   "cell_type": "markdown",
   "metadata": {},
   "source": [
    "**Step 7: Write a function that checks if the board is full and returns a boolean value. True if full, False otherwise.**"
   ]
  },
  {
   "cell_type": "code",
   "execution_count": 14,
   "metadata": {},
   "outputs": [],
   "source": [
    "def full_board_check(board):\n",
    "    '''\n",
    "    when True, board is full\n",
    "    '''\n",
    "    return ' ' not in board"
   ]
  },
  {
   "cell_type": "code",
   "execution_count": 15,
   "metadata": {},
   "outputs": [
    {
     "data": {
      "text/plain": [
       "False"
      ]
     },
     "execution_count": 15,
     "metadata": {},
     "output_type": "execute_result"
    }
   ],
   "source": [
    "full_board_check(test_board)"
   ]
  },
  {
   "cell_type": "markdown",
   "metadata": {},
   "source": [
    "**Step 8: Write a function that asks for a player's next position (as a number 1-9) and then uses the function from step 6 to check if it's a free position. If it is, then return the position for later use.**"
   ]
  },
  {
   "cell_type": "code",
   "execution_count": 16,
   "metadata": {},
   "outputs": [],
   "source": [
    "def player_choice_check():\n",
    "    #default values\n",
    "    choice = 'incorrect'\n",
    "    board_range = range(1,10)\n",
    "    within_range = False\n",
    "    \n",
    "    while choice.isdigit() == False or within_range == False:\n",
    "        #Ask for input\n",
    "        choice = input('Choose 1-9 to place marker: ')\n",
    "            \n",
    "        #Digit Ceck\n",
    "        if choice.isdigit() == False:\n",
    "            print(f'A number is needed! You put {choice}')\n",
    "            \n",
    "        #Range check\n",
    "        if choice.isdigit() == True:\n",
    "            if int(choice) in board_range:\n",
    "                within_range = True\n",
    "            else:\n",
    "                within_range = False\n",
    "                print(f'Not in range. Should be 1-9. You put {choice}')\n",
    "    return int(choice)"
   ]
  },
  {
   "cell_type": "code",
   "execution_count": 17,
   "metadata": {},
   "outputs": [],
   "source": [
    "def player_choice(board):\n",
    "\n",
    "    #default values\n",
    "    space = 'must check'\n",
    "\n",
    "    #Loop to check for a space\n",
    "    while space == 'must check':\n",
    "        position = player_choice_check()\n",
    "        #check if space is available\n",
    "        if space_check(board, position):\n",
    "            space = 'free'\n",
    "            return position\n",
    "        else:\n",
    "            print(f\"That's taken :/ You put {position}\")\n",
    "            continue"
   ]
  },
  {
   "cell_type": "code",
   "execution_count": 18,
   "metadata": {
    "scrolled": true
   },
   "outputs": [
    {
     "name": "stdout",
     "output_type": "stream",
     "text": [
      "Choose 1-9 to place marker: 9\n"
     ]
    },
    {
     "data": {
      "text/plain": [
       "9"
      ]
     },
     "execution_count": 18,
     "metadata": {},
     "output_type": "execute_result"
    }
   ],
   "source": [
    "player_choice(test_board)"
   ]
  },
  {
   "cell_type": "markdown",
   "metadata": {},
   "source": [
    "**Step 9: Write a function that asks the player if they want to play again and returns a boolean True if they do want to play again.**"
   ]
  },
  {
   "cell_type": "code",
   "execution_count": 19,
   "metadata": {},
   "outputs": [],
   "source": [
    "def replay():\n",
    "    \n",
    "    #default value\n",
    "    replay = 'incorrect'\n",
    "    acceptable_values = ['Y','N']\n",
    "    while replay not in acceptable_values:\n",
    "        \n",
    "        replay = input('Want to replay? Y or N: ').upper()\n",
    "        if replay not in acceptable_values:\n",
    "            clear_output()\n",
    "            print(f'Oops! Y or N only :) You put {replay}')\n",
    "    return replay == 'Y'"
   ]
  },
  {
   "cell_type": "code",
   "execution_count": 20,
   "metadata": {
    "scrolled": true
   },
   "outputs": [
    {
     "name": "stdout",
     "output_type": "stream",
     "text": [
      "Want to replay? Y or N: n\n"
     ]
    },
    {
     "data": {
      "text/plain": [
       "False"
      ]
     },
     "execution_count": 20,
     "metadata": {},
     "output_type": "execute_result"
    }
   ],
   "source": [
    "replay()"
   ]
  },
  {
   "cell_type": "markdown",
   "metadata": {
    "collapsed": true
   },
   "source": [
    "**Step 10: Here comes the hard part! Use while loops and the functions you've made to run the game!**"
   ]
  },
  {
   "cell_type": "code",
   "execution_count": 41,
   "metadata": {
    "scrolled": true
   },
   "outputs": [
    {
     "name": "stdout",
     "output_type": "stream",
     "text": [
      "Welcome to Tic Tac Toe!\n",
      "Player1, which marker? X or O  \n",
      "What chu doin? X or O\n",
      "Player1, which marker? X or O  x\n",
      "Ready to play? Y or Nn\n",
      "Want to replay? Y or N: n\n"
     ]
    }
   ],
   "source": [
    "while True:\n",
    "    clear_output()\n",
    "    print('Welcome to Tic Tac Toe!')\n",
    "    board = ['#',' ',' ',' ',\n",
    "         ' ',' ',' ',\n",
    "         ' ',' ',' ']\n",
    "    \n",
    "    game_start = ''\n",
    "    \n",
    "    player1_marker, player2_marker = player_input()\n",
    "    \n",
    "    choose_first() #function does not work\n",
    "    \n",
    "    while game_start not in ['Y','N']:\n",
    "        \n",
    "        game_start = input('Ready to play? Y or N' ).upper()\n",
    "        \n",
    "        if game_start == 'Y':\n",
    "            game_on = True\n",
    "        else:\n",
    "            game_on = False\n",
    "    #pass\n",
    "    while game_on:\n",
    "        display_board(board)\n",
    "        #Player 1 Turn\n",
    "        position = player_choice(board)\n",
    "        \n",
    "        place_marker(board,player1_marker,position)\n",
    "        \n",
    "        display_board(board)\n",
    "        \n",
    "        if win_check(board, player1_marker):\n",
    "            print('You win!')\n",
    "            game_on = False \n",
    "            break\n",
    "            \n",
    "        if full_board_check(board):\n",
    "            print(\"It's a tie. You should play again\")\n",
    "            game_on = False\n",
    "            break\n",
    "            \n",
    "        # Player2's turn\n",
    "        position = player_choice(board)\n",
    "        \n",
    "        place_marker(board,player2_marker,position)\n",
    "        \n",
    "        display_board(board)\n",
    "        \n",
    "        if win_check(board, player2_marker):\n",
    "            print('You win!')\n",
    "            game_on = False\n",
    "            break\n",
    "            \n",
    "        if full_board_check(board):\n",
    "            print(\"It's a tie. You should play again\")\n",
    "            game_on = False\n",
    "            break\n",
    "            \n",
    "            #pass\n",
    "    if not replay():\n",
    "        break"
   ]
  },
  {
   "cell_type": "markdown",
   "metadata": {
    "collapsed": true
   },
   "source": [
    "## Good Job!"
   ]
  }
 ],
 "metadata": {
  "kernelspec": {
   "display_name": "Python 3",
   "language": "python",
   "name": "python3"
  },
  "language_info": {
   "codemirror_mode": {
    "name": "ipython",
    "version": 3
   },
   "file_extension": ".py",
   "mimetype": "text/x-python",
   "name": "python",
   "nbconvert_exporter": "python",
   "pygments_lexer": "ipython3",
   "version": "3.8.3"
  }
 },
 "nbformat": 4,
 "nbformat_minor": 1
}
